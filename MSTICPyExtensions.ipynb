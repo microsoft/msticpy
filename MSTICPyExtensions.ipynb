{
 "cells": [
  {
   "cell_type": "code",
   "execution_count": null,
   "metadata": {},
   "outputs": [],
   "source": [
    "import importlib\n",
    "import sys\n",
    "from pathlib import Path\n",
    "from typing import Dict, Union\n",
    "\n",
    "import msticpy.context.tiproviders\n",
    "import msticpy.context.contextproviders\n",
    "import msticpy.data.core\n",
    "from msticpy.context.tiproviders.ti_provider_base import TIProvider\n",
    "from msticpy.context.contextproviders.context_provider_base import ContextProvider\n",
    "\n",
    "from msticpy.data import drivers\n",
    "from msticpy.context.lookup import Lookup\n",
    "from msticpy.data.drivers import DriverBase\n",
    "\n",
    "# Here - let's return the object that needs\n",
    "# to have the custom drivers assigned - e.g. data.core.__init__\n",
    "# or content.tiproviders, context.contextproviders\n",
    "_PLUGIN_TYPES = {\n",
    "    DriverBase: drivers,\n",
    "    TIProvider: msticpy.context.tiproviders,\n",
    "    ContextProvider: msticpy.context.contextproviders,\n",
    "}\n",
    "\n",
    "\n",
    "def load_plugins(plugin_path: Union[str, Path]):\n",
    "    sys.path.append(plugin_path)\n",
    "    for module_file in Path(plugin_path).glob(\"*.py\"):\n",
    "        module = importlib.import_module(module_file.stem)\n",
    "        for obj in vars(module).values():\n",
    "            if not isinstance(obj, type):\n",
    "                continue\n",
    "            plugin_type, reg_object = _get_plugin_type(obj)\n",
    "            if plugin_type:\n",
    "                # if no specified registration, use the parent class\n",
    "                reg_object = reg_object or plugin_type\n",
    "                reg_object.CUSTOM_PROVIDERS[obj.__name__.casefold()] = obj\n",
    "\n",
    "\n",
    "def _get_plugin_type(plugin_class):\n",
    "    return next(\n",
    "        (\n",
    "            (parent_class, dest)\n",
    "            for parent_class, dest in _PLUGIN_TYPES.items()\n",
    "            if issubclass(plugin_class, parent_class)\n",
    "        ),\n",
    "        (None, None),\n",
    "    )\n"
   ]
  },
  {
   "attachments": {},
   "cell_type": "markdown",
   "metadata": {},
   "source": [
    "```yaml\n",
    "PluginPaths:\n",
    "  - path1\n",
    "  - path2\n",
    "TIProviders:\n",
    "  OTX:\n",
    "    Args:\n",
    "      AuthKey: 1234567890\n",
    "    Primary: True\n",
    "    Provider: \"OTX\"\n",
    "  XYZ:\n",
    "    Args:\n",
    "      AuthKey: 1234567890\n",
    "    Primary: True\n",
    "    ProviderDef:\n",
    "      Path: /home/ian/myti.yaml\n",
    "      Entry: TIProv1\n",
    "    \n",
    "  "
   ]
  },
  {
   "cell_type": "code",
   "execution_count": null,
   "metadata": {},
   "outputs": [
    {
     "data": {
      "text/plain": [
       "{'custom': custom_ti.Custom}"
      ]
     },
     "metadata": {},
     "output_type": "display_data"
    }
   ],
   "source": [
    "# on package config load:\n",
    "from msticpy.common.pkg_config import get_config\n",
    "\n",
    "# plugin_folders = get_config(\"Plugins.modules\") # list\n",
    "plugin_folders = [plugin_path]\n",
    "detected_plugins: Dict[type, Dict[str, type]] = defaultdict(dict)\n",
    "\n",
    "for plugin_folder in plugin_folders:\n",
    "    detected_plugins.update(load_plugins(plugin_folder))\n",
    "\n",
    "for plugin_type, plugins in detected_plugins.items():\n",
    "    if not hasattr(plugin_type, \"CUSTOM_PLUGINS\"):\n",
    "        plugin_type.CUSTOM_PLUGINS = {}\n",
    "    plugin_type.CUSTOM_PLUGINS.update(plugins)\n",
    "\n",
    "HttpTIProvider.CUSTOM_PLUGINS\n"
   ]
  }
 ],
 "metadata": {
  "kernelspec": {
   "display_name": "Python 3.8.13 ('msticpy')",
   "language": "python",
   "name": "python3"
  },
  "language_info": {
   "name": "python",
   "version": "3.8.13 (default, Mar 28 2022, 06:59:08) [MSC v.1916 64 bit (AMD64)]"
  },
  "orig_nbformat": 4,
  "vscode": {
   "interpreter": {
    "hash": "4b6ddaa4f4daa4a6c6674a452b84f1f4f3e0236ad39c89274d27c46b8457b97f"
   }
  }
 },
 "nbformat": 4,
 "nbformat_minor": 2
}
