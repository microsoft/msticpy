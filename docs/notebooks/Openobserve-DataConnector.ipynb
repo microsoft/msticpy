{
 "cells": [
  {
   "cell_type": "markdown",
   "metadata": {},
   "source": [
    "# OpenObserve - Data Connector"
   ]
  },
  {
   "cell_type": "markdown",
   "metadata": {},
   "source": [
    "## Description\n",
    "The data provider module of msticpy provides functions to allow for the defining of data sources, connectors to them and queries for them as well as the ability to return query result from the defined data sources. \n",
    "\n",
    "For more information on Data Propviders, check documentation\n",
    "- Data Provider: https://msticpy.readthedocs.io/en/latest/data_acquisition/DataProviders.html\n",
    "\n",
    "In this notebooks we will demonstrate OpenObserve data connector feature of msticpy. \n",
    "This feature is built on-top of the [OpenObserve REST API](https://openobserve.ai/docs/api/) and [Unofficial python-openobserve module](https://github.com/JustinGuese/python-openobserve) with some customizations and enhancements (https://github.com/juju4/python-openobserve/tree/devel-all)."
   ]
  },
  {
   "cell_type": "markdown",
   "metadata": {},
   "source": [
    "### Installation"
   ]
  },
  {
   "cell_type": "code",
   "execution_count": 1,
   "metadata": {},
   "outputs": [],
   "source": [
    "# Only run first time to install/upgrade msticpy to latest version\n",
    "# %pip install --upgrade msticpy"
   ]
  },
  {
   "cell_type": "markdown",
   "metadata": {},
   "source": [
    "### Authentication\n",
    "\n",
    "Authentication for the OpenObserve data provider is handled by specifying credentials (user and password) directly in the connect call or specifying the credentials in msticpy config file.\n",
    "\n",
    "For more information on how to create credentials, follow OpenObserve Docs [Users](https://openobserve.ai/docs/user-guide/users/).\n",
    "\n",
    "Once you created user account, you will require the following details to specify while connecting\n",
    "- connection_str = \"https://localhost:5080\" (bare server install) or \"https://cloud.openobserve.ai?\" (cloud)\n",
    "- user = \"xxx\" (as created)\n",
    "- password = \"xxx\" (same)\n",
    "\n",
    "Once you have details, you can specify it in `msticpyconfig.yaml` as shown in below example"
   ]
  },
  {
   "cell_type": "markdown",
   "metadata": {
    "ExecuteTime": {
     "end_time": "2020-08-07T17:50:18.361039Z",
     "start_time": "2020-08-07T17:50:18.349006Z"
    }
   },
   "source": [
    "```\n",
    "DataProviders:\n",
    "  Openobserve:\n",
    "    Args:\n",
    "      connection_str: \"{Openobserve url endpoint}\"\n",
    "      user: \"{user with search permissions to connect}\"\n",
    "      password: \"{password of the user specified}\"\n",
    "```"
   ]
  },
  {
   "cell_type": "code",
   "execution_count": 1,
   "metadata": {},
   "outputs": [
    {
     "name": "stdout",
     "output_type": "stream"
    }
   ],
   "source": [
    "# Check we are running Python 3.6\n",
    "import sys\n",
    "\n",
    "MIN_REQ_PYTHON = (3, 6)\n",
    "if sys.version_info < MIN_REQ_PYTHON:\n",
    "    print(\"Check the Kernel->Change Kernel menu and ensure that Python 3.6\")\n",
    "    print(\"or later is selected as the active kernel.\")\n",
    "    sys.exit(\"Python %s.%s or later is required.\\n\" % MIN_REQ_PYTHON)\n"
   ]
  },
  {
   "cell_type": "code",
   "execution_count": 1,
   "metadata": {},
   "outputs": [
    {
     "name": "stdout",
     "output_type": "stream",
     "text": [
      "Imports Complete\n"
     ]
    }
   ],
   "source": [
    "# imports\n",
    "import pandas as pd\n",
    "from datetime import datetime, timedelta\n",
    "\n",
    "# data library imports\n",
    "from msticpy.data.data_providers import QueryProvider\n",
    "\n",
    "print(\"Imports Complete\")"
   ]
  },
  {
   "cell_type": "code",
   "execution_count": 1,
   "metadata": {},
   "outputs": [],
   "source": [
    "import os\n",
    "# Custom Certificate Authority?\n",
    "os.environ['REQUESTS_CA_BUNDLE'] = os.environ['HOME'] + '/path/to/ca-bundle-internal.pem'"
   ]
  },
  {
   "cell_type": "code",
   "execution_count": 1,
   "metadata": {},
   "outputs": [],
   "source": [
    "# use custom config file?\n",
    "# os.environ['MSTICPYCONFIG'] = '/path/to/msticpyconfig.yaml'"
   ]
  },
  {
   "cell_type": "code",
   "execution_count": null,
   "metadata": {},
   "outputs": [],
   "source": [
    "# FIXME! does not get MSTICPYCONFIG...\n",
    "from msticpy.config import MpConfigEdit\n",
    "# mpconfig = MpConfigFile()\n",
    "# mpconfig.load_default()\n",
    "# mpconfig.view_settings()\n",
    "mpedit = MpConfigEdit()\n",
    "mpedit"
   ]
  },
  {
   "cell_type": "markdown",
   "metadata": {},
   "source": [
    "\n",
    "## Instantiating a query provider\n",
    "\n",
    "You can instantiate a data provider for OpenObserve by specifying the credentials in connect or in msticpy config file. \n",
    "<br> If the details are correct and authentication is successful, it will show connected."
   ]
  },
  {
   "cell_type": "code",
   "execution_count": 1,
   "metadata": {
    "scrolled": true
   },
   "outputs": [
    {
     "name": "stdout",
     "output_type": "stream",
     "text": [
      "connected with user user@example.com\n"
     ]
    }
   ],
   "source": [
    "openobserve_prov = QueryProvider(\"OpenObserve\")\n",
    "openobserve_prov.connect(connection_str=\"<url>\", user=\"<user>\", password=\"<password>\")\n",
    "# openobserve_prov.connect()\n"
   ]
  },
  {
   "cell_type": "markdown",
   "metadata": {},
   "source": [
    "## Running a Ad-hoc OpenObserve query\n",
    "You can define your own openobserve query and run it via openobserve provider via `QUERY_PROVIDER.exec_query(<queryname>)`\n",
    "\n",
    "For more information, check documentation [Running and Ad-hoc Query](https://msticpy.readthedocs.io/en/latest/data_acquisition/DataProviders.html#running-an-ad-hoc-query)"
   ]
  },
  {
   "cell_type": "code",
   "execution_count": 1,
   "metadata": {},
   "outputs": [
    {
     "name": "stdout",
     "output_type": "stream",
     "text": [
      "INFO: from 2025-03-11 18:53:41.122503 to 2025-03-18 18:53:41.122503, TZ UTC\n",
      "{'query': {'end_time': 1742324021122503,\n",
      "           'sql': '\\n'\n",
      "                  'SELECT log_file_name,count(*) FROM \"default\" GROUP BY '\n",
      "                  'log_file_name\\n',\n",
      "           'start_time': 1741719221122503}}\n"
     ]
    },
    {
     "data": {
      "text/html": [
       "<div>\n",
       "<style scoped>\n",
       "    .dataframe tbody tr th:only-of-type {\n",
       "        vertical-align: middle;\n",
       "    }\n",
       "\n",
       "    .dataframe tbody tr th {\n",
       "        vertical-align: top;\n",
       "    }\n",
       "\n",
       "    .dataframe thead th {\n",
       "        text-align: right;\n",
       "    }\n",
       "</style>\n",
       "<table border=\"1\" class=\"dataframe\">\n",
       "  <thead>\n",
       "    <tr style=\"text-align: right;\">\n",
       "      <th></th>\n",
       "      <th>count(*)</th>\n",
       "      <th>log_file_name</th>\n",
       "    </tr>\n",
       "  </thead>\n",
       "  <tbody>\n",
       "    <tr>\n",
       "      <th>0</th>\n",
       "      <td>110</td>\n",
       "      <td>history.log</td>\n",
       "    </tr>\n",
       "    <tr>\n",
       "      <th>1</th>\n",
       "      <td>2</td>\n",
       "      <td>mail.err</td>\n",
       "    </tr>\n",
       "  </tbody>\n",
       "</table>\n",
       "</div>"
      ],
      "text/plain": [
       "   count(*) log_file_name\n",
       "0       110   history.log\n",
       "1         2      mail.err"
      ]
     },
     "execution_count": 1,
     "metadata": {},
     "output_type": "execute_result"
    }
   ],
   "source": [
    "openobserve_query = \"\"\"\n",
    "SELECT log_file_name,count(*) FROM \"default\" GROUP BY log_file_name\n",
    "\"\"\"\n",
    "df = openobserve_prov.exec_query(openobserve_query, days=7, verbosity=1)\n",
    "df.head()"
   ]
  },
  {
   "cell_type": "code",
   "execution_count": 1,
   "metadata": {},
   "outputs": [
    {
     "data": {
      "text/html": [
       "<div>\n",
       "<style scoped>\n",
       "    .dataframe tbody tr th:only-of-type {\n",
       "        vertical-align: middle;\n",
       "    }\n",
       "\n",
       "    .dataframe tbody tr th {\n",
       "        vertical-align: top;\n",
       "    }\n",
       "\n",
       "    .dataframe thead th {\n",
       "        text-align: right;\n",
       "    }\n",
       "</style>\n",
       "<table border=\"1\" class=\"dataframe\">\n",
       "  <thead>\n",
       "    <tr style=\"text-align: right;\">\n",
       "      <th></th>\n",
       "      <th>body__systemd_unit</th>\n",
       "      <th>count(*)</th>\n",
       "    </tr>\n",
       "  </thead>\n",
       "  <tbody>\n",
       "    <tr>\n",
       "      <th>0</th>\n",
       "      <td>00-kunai.service</td>\n",
       "      <td>20812630</td>\n",
       "    </tr>\n",
       "    <tr>\n",
       "      <th>1</th>\n",
       "      <td>init.scope</td>\n",
       "      <td>217243</td>\n",
       "    </tr>\n",
       "    <tr>\n",
       "      <th>2</th>\n",
       "      <td>osqueryd.service</td>\n",
       "      <td>93914</td>\n",
       "    </tr>\n",
       "    <tr>\n",
       "      <th>3</th>\n",
       "      <td>falcoctl-artifact-follow.service</td>\n",
       "      <td>87232</td>\n",
       "    </tr>\n",
       "    <tr>\n",
       "      <th>4</th>\n",
       "      <td>ssh.service</td>\n",
       "      <td>36890</td>\n",
       "    </tr>\n",
       "  </tbody>\n",
       "</table>\n",
       "</div>"
      ],
      "text/plain": [
       "                 body__systemd_unit  count(*)\n",
       "0                  00-kunai.service  20812630\n",
       "1                        init.scope    217243\n",
       "2                  osqueryd.service     93914\n",
       "3  falcoctl-artifact-follow.service     87232\n",
       "4                       ssh.service     36890"
      ]
     },
     "execution_count": 1,
     "metadata": {},
     "output_type": "execute_result"
    }
   ],
   "source": [
    "openobserve_query = \"\"\"SELECT body__systemd_unit, count(*) FROM \"journald\" group by body__systemd_unit order by count(*) desc\"\"\"\n",
    "df = openobserve_prov.exec_query(\n",
    "    openobserve_query,\n",
    "    start_time=datetime.now() - timedelta(days=7),\n",
    "    end_time=datetime.now() - timedelta(days=1),\n",
    ")\n",
    "df.head()"
   ]
  },
  {
   "cell_type": "code",
   "execution_count": null,
   "metadata": {},
   "outputs": [],
   "source": []
  },
  {
   "cell_type": "code",
   "execution_count": 63,
   "metadata": {},
   "outputs": [],
   "source": [
    "# first/last seen of streams\n",
    "streams = ['default', 'journald', 'zeek', 'webproxy']\n",
    "df_streams_seen = pd.DataFrame(columns=['first_seen', 'last_seen'])\n",
    "days_period = 7"
   ]
  },
  {
   "cell_type": "code",
   "execution_count": 1,
   "metadata": {},
   "outputs": [
    {
     "name": "stderr",
     "output_type": "stream",
     "text": [
      "/tmp/ipykernel_2729/4108130129.py:19: FutureWarning: The behavior of DataFrame concatenation with empty or all-NA entries is deprecated. In a future version, this will no longer exclude empty or all-NA columns when determining the result dtypes. To retain the old behavior, exclude the relevant entries before the concat operation.\n",
      "  df_streams_seen = pd.concat([df_streams_seen, pd.DataFrame({ \"first_seen\": [df_first['_timestamp'][0]], \"last_seen\": [df_last['_timestamp'][0]]}, index=[s])], ignore_index=False)\n"
     ]
    }
   ],
   "source": [
    "for s in streams:\n",
    "    # panic... pandas handling conversion anyway\n",
    "    # firstseen_sql = f\"SELECT date_format(_timestamp, '%Y-%m-%d %H:%M:%S', 'UTC') FROM \\\"{s}\\\" order by _timestamp asc limit 1\"\n",
    "    # lastseen_sql = f\"SELECT date_format(_timestamp, '%Y-%m-%d %H:%M:%S', 'UTC') FROM \\\"{s}\\\" order by _timestamp desc limit 1\"\n",
    "    firstseen_sql = f\"SELECT _timestamp FROM \\\"{s}\\\" order by _timestamp asc limit 1\"\n",
    "    lastseen_sql = f\"SELECT _timestamp FROM \\\"{s}\\\" order by _timestamp desc limit 1\"\n",
    "    df_first = openobserve_prov.exec_query(\n",
    "        firstseen_sql,\n",
    "        start_time=datetime.now() - timedelta(days=days_period),\n",
    "        end_time=datetime.now() - timedelta(days=0),\n",
    "        verbosity = 0,\n",
    "    )\n",
    "    df_last = openobserve_prov.exec_query(\n",
    "        lastseen_sql,\n",
    "        start_time=datetime.now() - timedelta(days=days_period),\n",
    "        end_time=datetime.now() - timedelta(days=0),\n",
    "        verbosity = 0,\n",
    "    )\n",
    "    df_streams_seen = pd.concat(\n",
    "        [df_streams_seen,\n",
    "         pd.DataFrame({ \"first_seen\": [df_first['_timestamp'][0]], \"last_seen\": [df_last['_timestamp'][0]]}, index=[s])\n",
    "        ],\n",
    "        ignore_index=False\n",
    "    )\n"
   ]
  },
  {
   "cell_type": "code",
   "execution_count": 1,
   "metadata": {},
   "outputs": [
    {
     "data": {
      "text/html": [
       "<div>\n",
       "<style scoped>\n",
       "    .dataframe tbody tr th:only-of-type {\n",
       "        vertical-align: middle;\n",
       "    }\n",
       "\n",
       "    .dataframe tbody tr th {\n",
       "        vertical-align: top;\n",
       "    }\n",
       "\n",
       "    .dataframe thead th {\n",
       "        text-align: right;\n",
       "    }\n",
       "</style>\n",
       "<table border=\"1\" class=\"dataframe\">\n",
       "  <thead>\n",
       "    <tr style=\"text-align: right;\">\n",
       "      <th></th>\n",
       "      <th>first_seen</th>\n",
       "      <th>last_seen</th>\n",
       "    </tr>\n",
       "  </thead>\n",
       "  <tbody>\n",
       "    <tr>\n",
       "      <th>default</th>\n",
       "      <td>2025-03-12 06:27:19.380708</td>\n",
       "      <td>2025-03-18 06:28:48.146779</td>\n",
       "    </tr>\n",
       "    <tr>\n",
       "      <th>journald</th>\n",
       "      <td>2025-03-11 19:39:40.959506</td>\n",
       "      <td>2025-03-18 19:39:41.134215</td>\n",
       "    </tr>\n",
       "    <tr>\n",
       "      <th>zeek</th>\n",
       "      <td>2025-03-11 19:39:46.579635</td>\n",
       "      <td>2025-03-18 19:39:40.746550</td>\n",
       "    </tr>\n",
       "    <tr>\n",
       "      <th>webproxy</th>\n",
       "      <td>2025-03-11 19:40:16.781357</td>\n",
       "      <td>2025-03-18 19:39:16.745473</td>\n",
       "    </tr>\n",
       "  </tbody>\n",
       "</table>\n",
       "</div>"
      ],
      "text/plain": [
       "                         first_seen                  last_seen\n",
       "default  2025-03-12 06:27:19.380708 2025-03-18 06:28:48.146779\n",
       "journald 2025-03-11 19:39:40.959506 2025-03-18 19:39:41.134215\n",
       "zeek     2025-03-11 19:39:46.579635 2025-03-18 19:39:40.746550\n",
       "webproxy 2025-03-11 19:40:16.781357 2025-03-18 19:39:16.745473"
      ]
     },
     "execution_count": 1,
     "metadata": {},
     "output_type": "execute_result"
    }
   ],
   "source": [
    "df_streams_seen"
   ]
  },
  {
   "cell_type": "code",
   "execution_count": null,
   "metadata": {},
   "outputs": [],
   "source": []
  },
  {
   "cell_type": "markdown",
   "metadata": {},
   "source": [
    "## References\n",
    "\n",
    "- [OpenObserve REST API](https://openobserve.ai/docs/api/)\n",
    "- [Unofficial python-openobserve module](https://github.com/JustinGuese/python-openobserve) with some customizations and enhancements (https://github.com/juju4/python-openobserve/tree/devel-all)\n",
    "- Openobserve github discussions: https://github.com/openobserve/openobserve/discussions/"
   ]
  },
  {
   "cell_type": "code",
   "execution_count": null,
   "metadata": {},
   "outputs": [],
   "source": []
  }
 ],
 "metadata": {
  "hide_input": false,
  "kernelspec": {
   "display_name": "Python 3 (ipykernel)",
   "language": "python",
   "name": "python3"
  },
  "language_info": {
   "codemirror_mode": {
    "name": "ipython",
    "version": 3
   },
   "file_extension": ".py",
   "mimetype": "text/x-python",
   "name": "python",
   "nbconvert_exporter": "python",
   "pygments_lexer": "ipython3",
   "version": "3.13.2"
  },
  "toc": {
   "base_numbering": 1,
   "nav_menu": {},
   "number_sections": false,
   "sideBar": true,
   "skip_h1_title": false,
   "title_cell": "Table of Contents",
   "title_sidebar": "Contents",
   "toc_cell": false,
   "toc_position": {
    "height": "calc(100% - 180px)",
    "left": "10px",
    "top": "150px",
    "width": "185.554px"
   },
   "toc_section_display": true,
   "toc_window_display": true
  },
  "varInspector": {
   "cols": {
    "lenName": 16,
    "lenType": 16,
    "lenVar": 40
   },
   "kernels_config": {
    "python": {
     "delete_cmd_postfix": "",
     "delete_cmd_prefix": "del ",
     "library": "var_list.py",
     "varRefreshCmd": "print(var_dic_list())"
    },
    "r": {
     "delete_cmd_postfix": ") ",
     "delete_cmd_prefix": "rm(",
     "library": "var_list.r",
     "varRefreshCmd": "cat(var_dic_list()) "
    }
   },
   "types_to_exclude": [
    "module",
    "function",
    "builtin_function_or_method",
    "instance",
    "_Feature"
   ],
   "window_display": false
  }
 },
 "nbformat": 4,
 "nbformat_minor": 4
}
