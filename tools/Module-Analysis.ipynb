{
 "cells": [
  {
   "cell_type": "code",
   "execution_count": 1,
   "metadata": {},
   "outputs": [
    {
     "name": "stdout",
     "output_type": "stream",
     "text": [
      "processing 17 modules\n",
      "{'azure_auth.py': {'azure_auth_core', 'azure.mgmt.subscription', '_version', 'azure.common.exceptions', 'provider_settings', 'os', 'typing'}, 'azure_auth_core.py': {'enum', 'logging', 'cred_wrapper', 'msrestazure', 'collections', '_version', 'azure.common.exceptions', 'dateutil', 'datetime', 'exceptions', 'azure.identity', 'common', 'azure.common.credentials', 'cloud_mappings', 'sys', 'typing'}, 'check_version.py': {'_version', 'pkg_resources', 'httpx'}, 'cloud_mappings.py': {'_version', 'exceptions', 'msrestazure'}, 'cred_wrapper.py': {'_version', 'msrest.authentication', 'azure.core.pipeline.policies', 'azure.identity', 'azure.core.pipeline', 'azure.core.pipeline.transport', 'typing'}, 'data_utils.py': {'_version', 'pandas', 'typing'}, 'exceptions.py': {'utility', '_version', 'IPython.display', 'contextlib', 'typing'}, 'keyring_client.py': {'keyring', 'utility', '_version', 'random', 'typing', 'keyring.errors'}, 'keyvault_client.py': {'base64', 'azure.mgmt.keyvault', 'azure.keyvault.secrets', 'azure_auth_core', 'json', 'utility', 'azure.mgmt.keyvault.models', '_version', 'azure.core.exceptions', 'IPython.display', 'msrestazure.azure_exceptions', 'exceptions', 'keyvault_settings', 'typing'}, 'keyvault_settings.py': {'azure_auth_core', 'utility', 'warnings', '_version', 'exceptions', 'cloud_mappings', 'typing'}, 'pkg_config.py': {'pkg_resources', 'utility', '_version', 'importlib.util', 'yaml', 'exceptions', 'yaml.error', 'pathlib', 'os', 'typing'}, 'provider_settings.py': {'warnings', 'secret_settings', 'collections', '_version', 'exceptions', 'attr', 'os', 'typing'}, 'secret_settings.py': {'functools', 'keyvault_client', 'utility', '_version', 'keyring_client', 'exceptions', 're', 'keyvault_settings', 'typing'}, 'timespan.py': {'pandas', '_version', 'datetime', 'dateutil.parser', 'typing'}, 'utility.py': {'enum', 'pkg_resources', 'subprocess', 'tqdm.auto', 'warnings', 'builtins', 'uuid', 'tqdm.notebook', '_version', 'platform', 'IPython.display', 'IPython', 're', 'difflib', 'pathlib', 'sys', 'os', 'typing'}, 'wsconfig.py': {'json', 'utility', '_version', 'ipywidgets', 'IPython.display', 'exceptions', 'pathlib', 'os', 'typing'}, '__init__.py': set()}\n",
      "{'azure_auth.py': {'imports': ['os'], 'imports_from': defaultdict(<class 'list'>, {'typing': ['List'], 'azure.common.exceptions': ['CloudError'], 'azure.mgmt.subscription': ['SubscriptionClient'], '_version': ['VERSION'], 'azure_auth_core': ['AzCredentials', 'az_connect_core', 'AzureCloudConfig', 'only_interactive_cred'], 'provider_settings': ['get_provider_settings']}), 'calls': defaultdict(<class 'list'>, {'AzureCloudConfig': [69], 'get_provider_settings': [71], 'get': [72, 76, 78, 79, 81], 'isinstance': [77], 'az_connect_core': [83, 114], 'SubscriptionClient': [86], 'CloudError': [92]}), 'funcs': defaultdict(<class 'list'>, {'az_connect': [31], 'az_user_connect': [97]})}, 'azure_auth_core.py': {'imports': ['logging', 'sys'], 'imports_from': defaultdict(<class 'list'>, {'collections': ['namedtuple'], 'datetime': ['datetime'], 'enum': ['Enum'], 'typing': ['List', 'Optional', 'Tuple'], 'azure.common.exceptions': ['CloudError'], 'azure.common.credentials': ['get_cli_profile'], 'azure.identity': ['AzureCliCredential', 'ChainedTokenCredential', 'EnvironmentCredential', 'InteractiveBrowserCredential', 'ManagedIdentityCredential'], 'dateutil': ['parser'], 'msrestazure': ['azure_cloud'], '_version': ['VERSION'], 'cred_wrapper': ['CredentialWrapper'], 'exceptions': ['MsticpyAzureConnectionError'], 'common': ['pkg_config'], 'cloud_mappings': ['get_all_endpoints', 'get_all_suffixes', 'CLOUD_ALIASES', 'CLOUD_MAPPING']}), 'calls': defaultdict(<class 'list'>, {'namedtuple': [41], 'get_config': [47], 'get_azure_config_value': [57, 82, 87], 'default_auth_methods': [89, 211], 'list': [94], 'keys': [94], 'casefold': [99, 100], 'items': [100], 'values': [103], 'get_all_endpoints': [123], 'get_all_suffixes': [141], 'pop': [207], 'AzureCloudConfig': [207, 208, 230, 258, 269, 325], '_create_auth_options': [209], 'MsticpyAzureConnectionError': [215], 'StreamHandler': [220], 'addFilter': [222, 224], 'basicConfig': [225], 'ChainedTokenCredential': [228], 'CredentialWrapper': [229], 'CloudError': [233], 'AzCredentials': [235], '__new__': [246], 'super': [246], '_az_connect_core': [263, 274, 279], 'utcfromtimestamp': [267], 'get_token': [268], 'utcnow': [272], 'get': [276, 277, 362], 'len': [290, 357, 358], 'isinstance': [290, 356], 'startswith': [298, 304, 306, 308, 316], 'getMessage': [302, 317], 'print': [305, 307, 309, 310], 'EnvironmentCredential': [330], 'AzureCliCredential': [331], 'ManagedIdentityCredential': [332], 'InteractiveBrowserCredential': [333], 'get_cli_profile': [352], 'get_raw_token': [353], 'parse': [362], 'now': [363], 'ValueError': [365], 'str': [372, 378]}), 'funcs': defaultdict(<class 'list'>, {'get_azure_config_value': [44], 'default_auth_methods': [55], '__init__': [63, 250], 'cloud_names': [92], 'resolve_cloud_alias': [97], 'endpoints': [108], 'suffixes': [126], 'token_uri': [144], '_az_connect_core': [149], '__new__': [243], 'current_cloud': [256], 'connect': [260], 'only_interactive_cred': [288], '_filter_credential_warning': [295], '_filter_all_warnings': [314], '_create_auth_options': [323], 'check_cli_credentials': [349]})}, 'check_version.py': {'imports': ['httpx'], 'imports_from': defaultdict(<class 'list'>, {'pkg_resources': ['parse_version'], '_version': ['VERSION']}), 'calls': defaultdict(<class 'list'>, {'parse_version': [19, 26, 28], 'json': [23], 'get': [23, 24, 24], 'max': [28], 'keys': [28], 'print': [30, 38, 39, 41]}), 'funcs': defaultdict(<class 'list'>, {'check_version': [17]})}, 'cloud_mappings.py': {'imports': [], 'imports_from': defaultdict(<class 'list'>, {'msrestazure': ['azure_cloud'], '_version': ['VERSION'], 'exceptions': ['MsticpyAzureConfigError']}), 'calls': defaultdict(<class 'list'>, {'getattr': [41, 62], 'items': [42, 63], 'get': [87, 118], 'MsticpyAzureConfigError': [91, 122]}), 'funcs': defaultdict(<class 'list'>, {'create_cloud_suf_dict': [25], 'create_cloud_ep_dict': [46], 'get_all_endpoints': [67], 'get_all_suffixes': [98]})}, 'cred_wrapper.py': {'imports': [], 'imports_from': defaultdict(<class 'list'>, {'typing': ['Any', 'Dict'], 'azure.core.pipeline': ['PipelineContext', 'PipelineRequest'], 'azure.core.pipeline.policies': ['BearerTokenCredentialPolicy'], 'azure.core.pipeline.transport': ['HttpRequest'], 'azure.identity': ['DefaultAzureCredential'], 'msrest.authentication': ['BasicTokenAuthentication'], '_version': ['VERSION']}), 'calls': defaultdict(<class 'list'>, {'__init__': [44], 'super': [44, 70], 'DefaultAzureCredential': [47], 'BearerTokenCredentialPolicy': [49], '_make_request': [61], 'on_request': [62], 'split': [64], 'set_token': [69], 'signed_session': [70], 'PipelineRequest': [75], 'HttpRequest': [76], 'PipelineContext': [76]}), 'funcs': defaultdict(<class 'list'>, {'__init__': [26], 'set_token': [51], 'signed_session': [67], '_make_request': [73]})}, 'data_utils.py': {'imports': ['pandas'], 'imports_from': defaultdict(<class 'list'>, {'typing': ['List', 'Union'], '_version': ['VERSION']}), 'calls': defaultdict(<class 'list'>, {'list': [45], 'filter': [45], 'isinstance': [46], 'set': [50], 'is_datetime64_any_dtype': [51], 'astype': [53], 'select_dtypes': [58], 'tz_localize': [61]}), 'funcs': defaultdict(<class 'list'>, {'ensure_df_datetimes': [17]})}, 'exceptions.py': {'imports': ['contextlib'], 'imports_from': defaultdict(<class 'list'>, {'typing': ['List', 'Tuple', 'Union'], 'IPython.display': ['display'], 'utility': ['is_ipython'], '_version': ['VERSION']}), 'calls': defaultdict(<class 'list'>, {'pop': [99, 100, 388, 433], 'append': [101, 105, 108, 114, 116, 161, 167, 173, 189, 190, 191, 194, 196, 198], 'extend': [103], 'items': [111], 'endswith': [111], '_get_config': [117], '_display_exception': [118], '__init__': [122, 235, 265, 289, 314, 401, 441], 'super': [122, 235, 265, 289, 314, 401, 441], 'is_ipython': [140], 'display': [141], '_display_txt_exception': [143], 'isinstance': [158, 163, 184, 186, 193, 437], 'replace': [172], 'join': [175, 175, 194, 199, 391, 439], 'format': [175], 'print': [179], '_get_exception_text': [179], 'len': [189, 191], 'AttributeError': [390, 435]}), 'funcs': defaultdict(<class 'list'>, {'_get_config': [21], '__init__': [53, 210, 247, 271, 301, 374, 419], 'no_display_exceptions': [126], 'help_uri': [133], '_display_exception': [137], '_repr_html_': [145], '_display_txt_exception': [177], '_get_exception_text': [181]})}, 'keyring_client.py': {'imports': ['random', 'keyring'], 'imports_from': defaultdict(<class 'list'>, {'typing': ['Any', 'Set'], 'keyring.errors': ['KeyringError', 'KeyringLocked', 'NoKeyringError'], '_version': ['VERSION'], 'utility': ['export']}), 'calls': defaultdict(<class 'list'>, {'set': [38], 'get_secret': [42], 'print': [64, 69, 74, 90], 'get_password': [66], 'add': [91], 'set_password': [92, 109], 'list': [105], 'shuffle': [106], 'join': [107], 'delete_password': [112]}), 'funcs': defaultdict(<class 'list'>, {'__init__': [24], '__getitem__': [40], 'get_secret': [47], 'set_secret': [77], 'is_keyring_available': [95]})}, 'keyvault_client.py': {'imports': ['base64', 'json'], 'imports_from': defaultdict(<class 'list'>, {'typing': ['Any', 'List'], 'azure.core.exceptions': ['ResourceNotFoundError', 'ClientAuthenticationError'], 'azure.keyvault.secrets': ['KeyVaultSecret', 'SecretClient'], 'azure.mgmt.keyvault': ['KeyVaultManagementClient'], 'azure.mgmt.keyvault.models': ['AccessPolicyEntry', 'CertificatePermissions', 'KeyPermissions', 'Permissions', 'SecretPermissions', 'Sku', 'Vault', 'VaultCreateOrUpdateParameters', 'VaultProperties'], 'IPython.display': ['display', 'HTML'], 'msrestazure.azure_exceptions': ['CloudError'], '_version': ['VERSION'], 'azure_auth_core': ['az_connect_core'], 'exceptions': ['MsticpyKeyVaultConfigError', 'MsticpyKeyVaultMissingSecretError', 'MsticpyUserConfigError'], 'keyvault_settings': ['KeyVaultSettings'], 'utility': ['export', 'is_ipython']}), 'calls': defaultdict(<class 'list'>, {'pop': [112, 123, 126, 133, 320, 336], 'KeyVaultSettings': [113, 321], 'get': [115, 124, 127, 135, 322, 329, 347, 348, 382, 468], 'MsticpyKeyVaultConfigError': [117, 180, 191, 324, 331, 339, 384, 408, 415], 'get_tenant_authority_host': [134], '_get_vault_name_and_uri': [138], '_get_secret_client': [141], '_test_working_credentials': [146], 'enumerate': [150], '_print_status': [151, 160, 163], 'az_connect_core': [155, 346], 'SecretClient': [156], 'list': [159, 363], 'list_properties_of_secrets': [159, 212], 'len': [164, 474], 'MsticpyUserConfigError': [166], 'format': [188], 'print': [198, 242, 250, 276, 484], 'split': [206, 473], 'replace': [206], 'rsplit': [237], 'get_secret': [239], 'MsticpyKeyVaultMissingSecretError': [243, 251], 'set_secret': [277], 'KeyVaultManagementClient': [362, 380, 420], '_get_params': [413], 'result': [421], 'create_or_update': [421], '_user_oid': [427], 'Permissions': [431], 'AccessPolicyEntry': [436], 'VaultProperties': [440], 'Sku': [442], 'VaultCreateOrUpdateParameters': [445], '_get_parsed_token_data': [467], 'loads': [475], 'b64decode': [475], 'is_ipython': [479], 'display': [481], 'HTML': [481]}), 'funcs': defaultdict(<class 'list'>, {'__init__': [59, 286], '_get_secret_client': [143], '_test_working_credentials': [148], '_get_vault_name_and_uri': [174], 'vault_name': [202], 'secrets': [210], 'get_secret': [214], 'set_secret': [258], 'list_vaults': [352], 'get_vault_uri': [365], 'create_vault': [392], '_get_params': [425], '_user_oid': [457], '_get_parsed_token_data': [471], '_print_status': [478]})}, 'keyvault_settings.py': {'imports': ['warnings'], 'imports_from': defaultdict(<class 'list'>, {'typing': ['Any', 'List', 'Optional'], '_version': ['VERSION'], None: ['pkg_config'], 'azure_auth_core': ['AzureCloudConfig'], 'exceptions': ['MsticpyKeyVaultConfigError'], 'utility': ['export'], 'cloud_mappings': ['create_cloud_ep_dict', 'create_cloud_suf_dict']}), 'calls': defaultdict(<class 'list'>, {'create_cloud_ep_dict': [51, 52], 'create_cloud_suf_dict': [53], 'items': [55, 81], 'get_config': [75], 'MsticpyKeyVaultConfigError': [77, 192, 231], 'casefold': [81, 96, 97, 98, 105, 106, 111, 115, 119, 124], 'update': [82], '_get_auth_methods_from_settings': [84], '_get_authority_from_settings': [85], 'AzureCloudConfig': [89, 101], 'get': [97, 119, 124, 146, 155, 190, 229], 'warn': [149, 158], 'strip': [188, 198, 199], 'endswith': [197], 'replace': [237], 'lower': [237], 'get_tenant_authority_uri': [237]}), 'funcs': defaultdict(<class 'list'>, {'__init__': [61], '_get_auth_methods_from_settings': [87], '_get_authority_from_settings': [91], '__getitem__': [103], '__setitem__': [109], '__contains__': [113], 'get': [117], 'cloud': [122], 'authority_uri': [127], 'keyvault_uri': [144], 'mgmt_uri': [153], 'get_tenant_authority_uri': [161], 'get_tenant_authority_host': [201]})}, 'pkg_config.py': {'imports': ['os', 'pkg_resources', 'yaml'], 'imports_from': defaultdict(<class 'list'>, {'importlib.util': ['find_spec'], 'pathlib': ['Path'], 'typing': ['Any', 'Dict', 'Optional', 'Callable'], 'yaml.error': ['YAMLError'], None: ['exceptions'], 'exceptions': ['MsticpyUserConfigError'], 'utility': ['is_valid_uuid'], '_version': ['VERSION']}), 'calls': defaultdict(<class 'list'>, {'_get_current_config': [61], '_CURRENT_CONF_FILE': [74, 212, 216], '_get_default_config': [81], '_get_custom_config': [82], '_create_data_providers': [83], '_consolidate_configs': [84], 'split': [103, 125], 'get': [106, 131, 181, 210, 231, 235, 236, 242, 287, 291, 329, 333, 341, 344, 363, 376, 409, 438], 'KeyError': [108, 133], 'is_file': [152, 211, 215], 'Path': [152, 211, 212, 215, 216, 222], 'open': [153], 'safe_load': [156], 'MsticpyUserConfigError': [158, 198], 'str': [161, 212, 216], 'update': [171], '_override_config': [173, 182], 'items': [178, 237, 338, 357], 'isinstance': [181, 270, 364, 437], 'resource_filename': [192], '_get_pkg_path': [196], 'next': [203], 'iter': [203], 'glob': [203], '_read_config_file': [205, 213, 217, 266], 'resolve': [212, 216], 'joinpath': [216], 'refresh_config': [249], 'TypeError': [271], '_validate_azure_sentinel': [273], '_check_provider_settings': [286], 'extend': [293, 294, 371, 375], '_print_validation_report': [296], '_print_validation_item': [304, 311], 'print': [309, 316, 321, 323], 'len': [321], 'append': [331, 335, 343, 346, 355, 359, 365, 384, 386, 388, 389, 391, 392, 399, 400, 401, 403, 404, 440, 442, 444], 'is_valid_uuid': [342, 345, 424], '_check_required_provider_settings': [372], '_check_env_vars': [376], '_check_required_key': [384, 386, 399, 400, 401, 403], '_check_is_uuid': [388, 389, 391, 392], 'startswith': [390], '_check_required_package': [404], 'find_spec': [415], 'values': [434]}), 'funcs': defaultdict(<class 'list'>, {'_get_current_config': [48], '_current_config': [52], 'current_config_path': [64], 'refresh_config': [77], 'get_config': [87], 'set_config': [112], '_read_config_file': [137], '_consolidate_configs': [167], '_override_config': [177], '_get_default_config': [187], '_get_custom_config': [209], '_get_pkg_path': [221], '_create_data_providers': [230], 'validate_config': [252], '_print_validation_report': [302], '_print_validation_item': [319], '_validate_azure_sentinel': [326], '_check_provider_settings': [351], '_check_required_provider_settings': [381], '_check_required_key': [408], '_check_required_package': [414], '_check_is_uuid': [420], '_check_env_vars': [430]})}, 'provider_settings.py': {'imports': ['os', 'warnings', 'attr'], 'imports_from': defaultdict(<class 'list'>, {'collections': ['UserDict'], 'typing': ['Any', 'Dict', 'Optional', 'Union', 'Callable'], 'attr': ['Factory'], '_version': ['VERSION'], 'exceptions': ['MsticpyImportExtraError'], None: ['pkg_config'], 'secret_settings': ['SecretsClient']}), 'calls': defaultdict(<class 'list'>, {'KeyError': [38], 'read_secret': [40], 'Factory': [51], 's': [44], 'SecretsClient': [60, 86], 'print': [83], 'get': [89, 95, 98, 104, 105, 183, 207], 'items': [94, 180], 'ProviderSettings': [96], '_get_setting_args': [99], 'refresh_config': [122], 'ProviderArgs': [130, 177, 178], '_get_settings': [136], 'copy': [178], 'casefold': [183], 'isinstance': [185, 187], '_fetch_setting': [189], 'warn': [193, 209, 223], 'MsticpyImportExtraError': [217], 'get_secret_accessor': [230], 'join': [231]}), 'funcs': defaultdict(<class 'list'>, {'__getitem__': [35], 'get_provider_settings': [63], 'reload_settings': [112], '_get_setting_args': [125], '_get_settings': [144], '_fetch_setting': [199]})}, 'secret_settings.py': {'imports': ['re'], 'imports_from': defaultdict(<class 'list'>, {'functools': ['partial'], 'typing': ['Any', 'Callable', 'Dict', 'Optional', 'Tuple'], '_version': ['VERSION'], None: ['pkg_config'], 'exceptions': ['MsticpyKeyVaultConfigError'], 'keyring_client': ['KeyringClient'], 'keyvault_client': ['BHKeyVaultClient'], 'keyvault_settings': ['KeyVaultSettings'], 'utility': ['export']}), 'calls': defaultdict(<class 'list'>, {'KeyVaultSettings': [54], 'get': [56, 68, 95, 115, 116, 145], 'MsticpyKeyVaultConfigError': [58, 129], 'is_keyring_available': [67], 'KeyringClient': [71], '_get_kv_vault_and_name': [88], '_get_secret_func': [91], 'BHKeyVaultClient': [97], 'sub': [104], 'get_config': [110], 'isinstance': [112], 'str': [113], 'casefold': [117], 'ValueError': [121], 'format_kv_name': [122, 127, 136], 'split': [126], 'get_secret': [141, 152], '_create_secret_func': [142, 153, 155], '_add_key_vault': [146], 'set_secret': [152], 'partial': [159], 'callable': [178], 'secret_object': [179]}), 'funcs': defaultdict(<class 'list'>, {'__init__': [33], 'get_secret_accessor': [73], '_add_key_vault': [93], 'format_kv_name': [102], '_get_kv_vault_and_name': [106], '_get_secret_func': [139], '_create_secret_func': [158], 'read_secret': [162]})}, 'timespan.py': {'imports': ['pandas'], 'imports_from': defaultdict(<class 'list'>, {'datetime': ['datetime', 'timedelta'], 'typing': ['Any', 'Optional', 'Tuple', 'Union'], 'dateutil.parser': ['ParserError'], '_version': ['VERSION']}), 'calls': defaultdict(<class 'list'>, {'_process_args': [54], 'ValueError': [57, 162, 175], '_parse_timedelta': [64], '_parse_time': [66, 67], 'utcnow': [71], 'isinstance': [77, 136, 140, 155, 158, 168, 171], 'hash': [83], 'hasattr': [143, 145, 147], 'getattr': [144, 146, 148], 'to_datetime': [159], 'to_pytimedelta': [172], 'Timedelta': [172]}), 'funcs': defaultdict(<class 'list'>, {'__init__': [23], '__eq__': [75], '__hash__': [81], '__repr__': [85], 'start': [93], 'end': [106], 'period': [119], '_process_args': [134], '_parse_time': [152], '_parse_timedelta': [165]})}, 'utility.py': {'imports': ['builtins', 'difflib', 'os', 're', 'subprocess', 'sys', 'uuid', 'warnings', 'pkg_resources'], 'imports_from': defaultdict(<class 'list'>, {'enum': ['Enum'], 'pathlib': ['Path'], 'platform': ['python_version'], 'typing': ['Any', 'Callable', 'Dict', 'Iterable', 'List', 'Optional', 'Tuple', 'Type', 'TypeVar', 'Union'], 'IPython': ['get_ipython'], 'IPython.display': ['HTML', 'DisplayHandle', 'display'], 'tqdm.auto': ['tqdm'], 'tqdm.notebook': ['tqdm'], '_version': ['VERSION']}), 'calls': defaultdict(<class 'list'>, {'hasattr': [46], 'getattr': [47], 'append': [48, 187, 201, 203, 419], 'setattr': [51], 'bool': [58, 58, 359], 'isinstance': [58, 65, 102, 172, 262, 267, 271, 273, 568, 570, 598, 600], 'strip': [58, 66, 175, 175, 264, 573], 'is_not_empty': [78, 86], 'replace': [79, 87], 'split': [103, 175, 264, 573], 'str': [103, 125, 127, 130, 135, 628], 'int': [104, 104], 'print': [106, 107, 190, 193, 217, 218, 219, 221], 'SystemExit': [108], 'is_absolute': [122], 'Path': [122, 125, 126, 130, 130, 626], 'joinpath': [125, 130], 'resolve': [125, 130], 'exists': [126], 'list': [129, 626], 'glob': [130, 626], 'len': [132, 385, 580], 'warn': [133], 'parse': [181], 'find': [183], 'is_ipython': [194, 199, 206], 'tqdm_notebook': [195], 'tqdm': [197], 'run_line_magic': [207], 'get_ipython': [207, 359, 360, 360], 'join': [207, 268, 389, 391], 'run': [210], 'get': [266, 268], 'HTML': [269], 'display': [272, 275], 'update': [274], 'md': [305, 325], 'startswith': [360], 'type': [360], 'get_close_matches': [383], 'NameError': [392, 421], 'check_kwarg': [417], 'pop': [454], 'UUID': [478], 'set': [499, 595], 'dir': [499], 'sub': [502], 'isdigit': [503], 'TypeVar': [510], 'issubclass': [535], 'TypeError': [536, 575], 'casefold': [539, 540], '_merge_dicts': [584, 602], 'union': [595], 'python_version': [613], '_get_mp_ua': [617]}), 'funcs': defaultdict(<class 'list'>, {'export': [43], 'string_empty': [56], 'is_not_empty': [62], 'escape_windows_path': [76], 'unescape_windows_path': [84], 'check_py_version': [92], 'resolve_pkg_path': [112], 'check_and_install_missing_packages': [140], 'md': [231], 'md_warn': [283], 'md_error': [309], 'is_ipython': [341], 'check_kwarg': [363], 'check_kwargs': [395], 'unit_testing': [427], 'set_unit_testing': [441], 'is_valid_uuid': [460], 'valid_pyname': [484], 'enum_parse': [513], 'arg_to_list': [546], 'collapse_dicts': [578], '_merge_dicts': [588], '_get_mp_ua': [611], 'search_for_file': [620]})}, 'wsconfig.py': {'imports': ['os', 'json', 'ipywidgets'], 'imports_from': defaultdict(<class 'list'>, {'typing': ['Dict', 'Any', 'Optional'], 'pathlib': ['Path'], 'IPython.display': ['display'], 'exceptions': ['MsticpyUserConfigError'], 'utility': ['export', 'is_valid_uuid', 'md', 'md_warn'], None: ['pkg_config'], '_version': ['VERSION']}), 'calls': defaultdict(<class 'list'>, {'Layout': [68], 'update': [126, 141], '_read_config_values': [126, 141, 342], '_determine_config_source': [128], '_read_pkg_config_values': [132, 157], 'exists': [136, 147, 150], 'Path': [136, 147, 150, 337], '_search_for_file': [139, 153], 'get': [146, 147, 149, 201, 202, 216, 217, 254, 254, 259, 260, 276, 279, 297, 300, 314, 317, 321, 325, 329], 'refresh_config': [156], 'display': [163, 283], 'MsticpyUserConfigError': [164], 'enumerate': [167], '__repr__': [188], 'is_valid_uuid': [203, 203], 'KeyError': [219, 224], 'open': [236], 'load': [238], 'items': [262], 'md_warn': [267], 'md': [268, 284], 'Text': [272, 273], 'observe': [281, 282], 'VBox': [283], 'list': [337], 'glob': [337], 'str': [340, 342, 344], 'print': [350, 351], 'format': [351], 'join': [351]}), 'funcs': defaultdict(<class 'list'>, {'__init__': [96], '_determine_config_source': [130], '__getitem__': [171], '__setitem__': [177], '__contains__': [181], '__repr__': [186], 'config_loaded': [191], 'code_connect_str': [206], '_read_config_values': [231], 'list_workspaces': [244], 'prompt_for_ws': [265], 'update_ws': [275], 'update_tnt': [278], '_read_pkg_config_values': [296], '_search_for_file': [334]})}, '__init__.py': {'imports': [], 'imports_from': defaultdict(<class 'list'>, {}), 'calls': defaultdict(<class 'list'>, {}), 'funcs': defaultdict(<class 'list'>, {})}}\n"
     ]
    }
   ],
   "source": [
    "from tools.toollib import ast_parser\n",
    "from pathlib import Path\n",
    "\n",
    "pkg_root = Path(\"msticpy/common\")\n",
    "file_imports = {}\n",
    "all_mod_imports = {}\n",
    "\n",
    "\n",
    "def _analyze_module_imports(py_file):\n",
    "    file_analysis = ast_parser.analyze(py_file)\n",
    "\n",
    "    # create a set of all imports\n",
    "    all_imports = {file.strip() for file in file_analysis[\"imports\"] if file}\n",
    "    all_imports.update(\n",
    "        file.strip() for file in file_analysis[\"imports_from\"].keys() if file\n",
    "    )\n",
    "\n",
    "    if None in all_imports:\n",
    "        all_imports.remove(None)  # type: ignore\n",
    "    return file_analysis, all_imports\n",
    "\n",
    "\n",
    "pkg_py_files = list(pkg_root.glob(\"**/*.py\"))\n",
    "print(f\"processing {len(pkg_py_files)} modules\")\n",
    "for py_file in pkg_py_files:\n",
    "    file_analysis, module_imports = _analyze_module_imports(py_file)\n",
    "    # add the external imports for the module\n",
    "    mod_name = \".\".join(py_file.relative_to(pkg_root).parts)\n",
    "    all_mod_imports[mod_name] = module_imports\n",
    "    file_imports[mod_name] = file_analysis\n",
    "\n",
    "print(all_mod_imports)\n",
    "print(file_imports)\n",
    "\n"
   ]
  },
  {
   "cell_type": "code",
   "execution_count": 16,
   "metadata": {},
   "outputs": [
    {
     "name": "stdout",
     "output_type": "stream",
     "text": [
      "processing 261 modules\n"
     ]
    }
   ],
   "source": [
    "from tools.toollib.import_analyzer import analyze_imports\n",
    "\n",
    "mod_imports = analyze_imports(\".\", \"msticpy\", \"requirements-all.txt\", extras=[], process_setup_py=False)"
   ]
  },
  {
   "cell_type": "code",
   "execution_count": 21,
   "metadata": {},
   "outputs": [],
   "source": [
    "import numpy as np\n",
    "module_imp = []\n",
    "for mod_name, imports in mod_imports.items():\n",
    "\n",
    "    for mod_import in imports.internal:\n",
    "        cross_dep = mod_import.rsplit(\".\", maxsplit=1)[0] if \".\" in mod_import else np.nan\n",
    "        module_imp.append({\n",
    "            \"module\": mod_name,\n",
    "            \"file\": \"/\" + \"/\".join(mod_name.split(\".\")[:-1]) + \".py\",\n",
    "            \"import\": mod_import,\n",
    "            \"cross_dep\": cross_dep,\n",
    "        })\n",
    "\n",
    "import pandas as pd\n",
    "module_imports = pd.DataFrame(module_imp)"
   ]
  },
  {
   "cell_type": "code",
   "execution_count": 30,
   "metadata": {},
   "outputs": [],
   "source": [
    "module_imports[\n",
    "    (module_imports.cross_dep.notna())\n",
    "    & (module_imports[\"import\"] != \"_version\")\n",
    "    & (module_imports[\"import\"] != \"common.utility\")\n",
    "].to_csv(\"module_imports.csv\")"
   ]
  },
  {
   "cell_type": "code",
   "execution_count": 79,
   "metadata": {},
   "outputs": [
    {
     "data": {
      "text/plain": [
       "array(['analysis.eventcluster.py', 'analysis.syslog_utils.py',\n",
       "       'analysis.timeseries.py', 'analysis.data.auditdextract.py',\n",
       "       'analysis.data.base64unpack.py', 'analysis.data.cmd_line.py',\n",
       "       'analysis.data.iocextract.py', 'analysis.data.syslog_utils.py',\n",
       "       'config.mp_config_control.py', 'data.context.domain_utils.py',\n",
       "       'data.context.geoip.py', 'data.context.ip_utils.py',\n",
       "       'data.context.tilookup.py',\n",
       "       'data.context.tiproviders.alienvault_otx.py',\n",
       "       'data.context.tiproviders.azure_sent_byoti.py',\n",
       "       'data.context.tiproviders.http_base.py',\n",
       "       'data.context.tiproviders.ibm_xforce.py',\n",
       "       'data.context.tiproviders.intsights.py',\n",
       "       'data.context.tiproviders.kql_base.py',\n",
       "       'data.context.tiproviders.open_page_rank.py',\n",
       "       'data.context.tiproviders.riskiq.py',\n",
       "       'data.context.tiproviders.ti_provider_base.py',\n",
       "       'data.context.tiproviders.tor_exit_nodes.py',\n",
       "       'data.context.tiproviders.virustotal.py',\n",
       "       'data.context.tiproviders.vtlookupv3.vtlookup.py',\n",
       "       'data.context.tiproviders.vtlookupv3.vtlookupv3.py',\n",
       "       'data.context.tiproviders.vtlookupv3.vt_pivot.py',\n",
       "       'data.core.data_providers.py', 'data.core.param_extractor.py',\n",
       "       'data.core.query_container.py', 'data.core.query_defns.py',\n",
       "       'data.core.query_source.py', 'data.drivers.kql_driver.py',\n",
       "       'data.drivers.kusto_driver.py',\n",
       "       'data.drivers.local_data_driver.py',\n",
       "       'data.drivers.mdatp_driver.py',\n",
       "       'data.drivers.resource_graph_driver.py',\n",
       "       'data.drivers.security_graph_driver.py',\n",
       "       'data.drivers.splunk_driver.py',\n",
       "       'data.drivers.sumologic_driver.py',\n",
       "       'datamodel.entities.account.py', 'datamodel.entities.alert.py',\n",
       "       'datamodel.entities.azure_resource.py',\n",
       "       'datamodel.entities.cloud_application.py',\n",
       "       'datamodel.entities.cloud_logon_session.py',\n",
       "       'datamodel.entities.dns.py', 'datamodel.entities.entity.py',\n",
       "       'datamodel.entities.entity_enums.py', 'datamodel.entities.file.py',\n",
       "       'datamodel.entities.file_hash.py',\n",
       "       'datamodel.entities.geo_location.py', 'datamodel.entities.host.py',\n",
       "       'datamodel.entities.host_logon_session.py',\n",
       "       'datamodel.entities.iot_device.py',\n",
       "       'datamodel.entities.ip_address.py',\n",
       "       'datamodel.entities.mailbox.py',\n",
       "       'datamodel.entities.mail_cluster.py',\n",
       "       'datamodel.entities.mail_message.py',\n",
       "       'datamodel.entities.malware.py',\n",
       "       'datamodel.entities.network_connection.py',\n",
       "       'datamodel.entities.process.py',\n",
       "       'datamodel.entities.registry_key.py',\n",
       "       'datamodel.entities.registry_value.py',\n",
       "       'datamodel.entities.security_group.py',\n",
       "       'datamodel.entities.submission_mail.py',\n",
       "       'datamodel.entities.threat_intelligence.py',\n",
       "       'datamodel.entities.unknown_entity.py',\n",
       "       'datamodel.entities.url.py', 'datamodel.soc.incident.py',\n",
       "       'nbtools.nbdisplay.py', 'nbtools.nbinit.py', 'nbtools.nbmagics.py',\n",
       "       'nbtools.security_alert.py', 'nbtools.security_alert_graph.py',\n",
       "       'nbtools.security_base.py', 'nbtools.security_event.py',\n",
       "       'nbtools.utility.py', 'nbtools.nbwidgets.query_time.py',\n",
       "       'vis.entity_graph_tools.py', 'vis.foliummap.py',\n",
       "       'vis.matrix_plot.py', 'vis.morph_charts.py', 'vis.process_tree.py',\n",
       "       'vis.timeline.py', 'vis.timeline_duration.py', 'vis.timeseries.py'],\n",
       "      dtype=object)"
      ]
     },
     "execution_count": 79,
     "metadata": {},
     "output_type": "execute_result"
    }
   ],
   "source": [
    "module_imports[[\"import\", \"module\", \"cross_dep\"]].groupby(\"import\").agg(\n",
    "    mod_count=pd.NamedAgg(\"module\", \"count\"),\n",
    "    cross_mod_count=pd.NamedAgg(\"cross_dep\", \"nunique\"),\n",
    "    dep_modules=pd.NamedAgg(\"module\", \"unique\")\n",
    ").sort_values(\"mod_count\", ascending=False).query(\"mod_count > 2 and cross_mod_count > 0\").iloc[0].dep_modules"
   ]
  },
  {
   "cell_type": "code",
   "execution_count": 81,
   "metadata": {},
   "outputs": [],
   "source": [
    "import numpy as np\n",
    "\n",
    "module_imports[[\"import\", \"module\", \"cross_dep\"]].groupby(\"import\").agg(\n",
    "    mod_count=pd.NamedAgg(\"module\", \"nunique\"),\n",
    "    cross_mod_count=pd.NamedAgg(\"cross_dep\", \"nunique\"),\n",
    "    dep_modules=pd.NamedAgg(\"module\", np.unique)\n",
    ").sort_values(\"mod_count\", ascending=False).query(\"mod_count > 1 and cross_mod_count > 0\").to_csv(\"common_imports.csv\")"
   ]
  },
  {
   "cell_type": "code",
   "execution_count": 102,
   "metadata": {},
   "outputs": [],
   "source": [
    "ren_mods = pd.read_csv(\"module_new_folder.csv\", header=0)"
   ]
  },
  {
   "cell_type": "code",
   "execution_count": 103,
   "metadata": {},
   "outputs": [],
   "source": [
    "ren_mods[\"path_parts\"] = ren_mods[(ren_mods.new_location != \"depr\") & (ren_mods.new_location.notna())].file.str.split(\"/\")"
   ]
  },
  {
   "cell_type": "code",
   "execution_count": 104,
   "metadata": {},
   "outputs": [],
   "source": [
    "def make_path(row):\n",
    "    if isinstance(row.new_location, float) or row.new_location == \"depr\":\n",
    "        return \"\"\n",
    "    return row.new_location + \"/\" + row.path_parts[-1]\n",
    "\n",
    "ren_mods[\"new_path\"] = ren_mods.apply(make_path, axis=1).fillna(\"\")"
   ]
  },
  {
   "cell_type": "code",
   "execution_count": 105,
   "metadata": {},
   "outputs": [],
   "source": [
    "ren_mods[\"final_path\"] = ren_mods.new_path\n",
    "ren_mods.loc[ren_mods.new_path == \"\", \"final_path\"] = ren_mods[ren_mods.new_path == \"\"].file"
   ]
  },
  {
   "cell_type": "code",
   "execution_count": 75,
   "metadata": {},
   "outputs": [],
   "source": [
    "ren_mods.to_csv(\"new_location.csv\")"
   ]
  },
  {
   "cell_type": "code",
   "execution_count": 106,
   "metadata": {},
   "outputs": [
    {
     "data": {
      "text/plain": [
       "0                       NaN\n",
       "5                      depr\n",
       "17               /transform\n",
       "21                     /api\n",
       "29                    /auth\n",
       "39                  /config\n",
       "80             /vis/viewers\n",
       "85                 /context\n",
       "90              /data/azure\n",
       "91           /context/azure\n",
       "99     /context/tiproviders\n",
       "112             /context/vt\n",
       "117                   /data\n",
       "120              /datamodel\n",
       "190                    /vis\n",
       "208                 /widget\n",
       "Name: new_location, dtype: object"
      ]
     },
     "execution_count": 106,
     "metadata": {},
     "output_type": "execute_result"
    }
   ],
   "source": [
    "ren_mods.new_location.drop_duplicates()"
   ]
  },
  {
   "cell_type": "code",
   "execution_count": 115,
   "metadata": {},
   "outputs": [
    {
     "name": "stdout",
     "output_type": "stream",
     "text": [
      "/__init__.py\n",
      "/analysis\n",
      "/api\n",
      "/auth\n",
      "/common\n",
      "/config\n",
      "/context\n",
      "/data\n",
      "/datamodel\n",
      "/nbtools\n",
      "/sectools\n",
      "/transform\n",
      "/vis\n",
      "/widget\n"
     ]
    }
   ],
   "source": [
    "print(\"\\n\".join(ren_mods.final_path.str.extract(\"(/[^/]+)\").drop_duplicates().sort_values(0)[0].to_list()))"
   ]
  }
 ],
 "metadata": {
  "interpreter": {
   "hash": "2bc37074a50de3994d4ebdf9197e864a43c9c15c9793b7f9f3363bcff9457253"
  },
  "kernelspec": {
   "display_name": "Python 3.9.7",
   "language": "python",
   "name": "python3"
  },
  "language_info": {
   "codemirror_mode": {
    "name": "ipython",
    "version": 3
   },
   "file_extension": ".py",
   "mimetype": "text/x-python",
   "name": "python",
   "nbconvert_exporter": "python",
   "pygments_lexer": "ipython3",
   "version": "3.9.7"
  },
  "orig_nbformat": 4
 },
 "nbformat": 4,
 "nbformat_minor": 2
}
